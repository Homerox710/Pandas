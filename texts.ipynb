{
  "nbformat": 4,
  "nbformat_minor": 0,
  "metadata": {
    "colab": {
      "name": "texts.ipynb",
      "provenance": [],
      "authorship_tag": "ABX9TyOeZ3EJMdNt+0Cr/bk+51Ta",
      "include_colab_link": true
    },
    "kernelspec": {
      "name": "python3",
      "display_name": "Python 3"
    },
    "language_info": {
      "name": "python"
    }
  },
  "cells": [
    {
      "cell_type": "markdown",
      "metadata": {
        "id": "view-in-github",
        "colab_type": "text"
      },
      "source": [
        "<a href=\"https://colab.research.google.com/github/Homerox710/Pandas/blob/main/texts.ipynb\" target=\"_parent\"><img src=\"https://colab.research.google.com/assets/colab-badge.svg\" alt=\"Open In Colab\"/></a>"
      ]
    },
    {
      "cell_type": "code",
      "execution_count": null,
      "metadata": {
        "id": "dHfzRjKq17Tk"
      },
      "outputs": [],
      "source": [
        "import pandas as pd"
      ]
    },
    {
      "cell_type": "code",
      "source": [
        "data = {'names':['Sara Moreno 34',\n",
        "                 'jUAn GOMez 23',\n",
        "                 'CArlos mArtinez 89',\n",
        "                 'Alfredo VelaZques 3',\n",
        "                 'luis Mora 56',\n",
        "                 '@freddier #platzi 10',\n",
        "                 pd.NA\n",
        "                 ]\n",
        "        }"
      ],
      "metadata": {
        "id": "8fFwVuZz2Hfi"
      },
      "execution_count": null,
      "outputs": []
    },
    {
      "cell_type": "markdown",
      "source": [
        "Usamos los datos del diccionario para crear nuestro DataFrame. Nuestro DataFrame contiene una columna tipo texto, con variedades de caracteres especiales, números, mayúsculas e inclusive variables nulas."
      ],
      "metadata": {
        "id": "wSOYRifA29QP"
      }
    },
    {
      "cell_type": "code",
      "source": [
        "df = pd.DataFrame(data)\n",
        "df"
      ],
      "metadata": {
        "colab": {
          "base_uri": "https://localhost:8080/",
          "height": 269
        },
        "id": "gncOBg1s56qN",
        "outputId": "87365759-4de0-4e14-f574-9a6a17d9cb55"
      },
      "execution_count": null,
      "outputs": [
        {
          "output_type": "execute_result",
          "data": {
            "text/html": [
              "\n",
              "  <div id=\"df-d6a58bbc-2a63-4c61-b71a-9658dbdc850f\">\n",
              "    <div class=\"colab-df-container\">\n",
              "      <div>\n",
              "<style scoped>\n",
              "    .dataframe tbody tr th:only-of-type {\n",
              "        vertical-align: middle;\n",
              "    }\n",
              "\n",
              "    .dataframe tbody tr th {\n",
              "        vertical-align: top;\n",
              "    }\n",
              "\n",
              "    .dataframe thead th {\n",
              "        text-align: right;\n",
              "    }\n",
              "</style>\n",
              "<table border=\"1\" class=\"dataframe\">\n",
              "  <thead>\n",
              "    <tr style=\"text-align: right;\">\n",
              "      <th></th>\n",
              "      <th>names</th>\n",
              "    </tr>\n",
              "  </thead>\n",
              "  <tbody>\n",
              "    <tr>\n",
              "      <th>0</th>\n",
              "      <td>Sara Moreno 34</td>\n",
              "    </tr>\n",
              "    <tr>\n",
              "      <th>1</th>\n",
              "      <td>jUAn GOMez 23</td>\n",
              "    </tr>\n",
              "    <tr>\n",
              "      <th>2</th>\n",
              "      <td>CArlos mArtinez 89</td>\n",
              "    </tr>\n",
              "    <tr>\n",
              "      <th>3</th>\n",
              "      <td>Alfredo VelaZques 3</td>\n",
              "    </tr>\n",
              "    <tr>\n",
              "      <th>4</th>\n",
              "      <td>luis Mora 56</td>\n",
              "    </tr>\n",
              "    <tr>\n",
              "      <th>5</th>\n",
              "      <td>@freddier #platzi 10</td>\n",
              "    </tr>\n",
              "    <tr>\n",
              "      <th>6</th>\n",
              "      <td>&lt;NA&gt;</td>\n",
              "    </tr>\n",
              "  </tbody>\n",
              "</table>\n",
              "</div>\n",
              "      <button class=\"colab-df-convert\" onclick=\"convertToInteractive('df-d6a58bbc-2a63-4c61-b71a-9658dbdc850f')\"\n",
              "              title=\"Convert this dataframe to an interactive table.\"\n",
              "              style=\"display:none;\">\n",
              "        \n",
              "  <svg xmlns=\"http://www.w3.org/2000/svg\" height=\"24px\"viewBox=\"0 0 24 24\"\n",
              "       width=\"24px\">\n",
              "    <path d=\"M0 0h24v24H0V0z\" fill=\"none\"/>\n",
              "    <path d=\"M18.56 5.44l.94 2.06.94-2.06 2.06-.94-2.06-.94-.94-2.06-.94 2.06-2.06.94zm-11 1L8.5 8.5l.94-2.06 2.06-.94-2.06-.94L8.5 2.5l-.94 2.06-2.06.94zm10 10l.94 2.06.94-2.06 2.06-.94-2.06-.94-.94-2.06-.94 2.06-2.06.94z\"/><path d=\"M17.41 7.96l-1.37-1.37c-.4-.4-.92-.59-1.43-.59-.52 0-1.04.2-1.43.59L10.3 9.45l-7.72 7.72c-.78.78-.78 2.05 0 2.83L4 21.41c.39.39.9.59 1.41.59.51 0 1.02-.2 1.41-.59l7.78-7.78 2.81-2.81c.8-.78.8-2.07 0-2.86zM5.41 20L4 18.59l7.72-7.72 1.47 1.35L5.41 20z\"/>\n",
              "  </svg>\n",
              "      </button>\n",
              "      \n",
              "  <style>\n",
              "    .colab-df-container {\n",
              "      display:flex;\n",
              "      flex-wrap:wrap;\n",
              "      gap: 12px;\n",
              "    }\n",
              "\n",
              "    .colab-df-convert {\n",
              "      background-color: #E8F0FE;\n",
              "      border: none;\n",
              "      border-radius: 50%;\n",
              "      cursor: pointer;\n",
              "      display: none;\n",
              "      fill: #1967D2;\n",
              "      height: 32px;\n",
              "      padding: 0 0 0 0;\n",
              "      width: 32px;\n",
              "    }\n",
              "\n",
              "    .colab-df-convert:hover {\n",
              "      background-color: #E2EBFA;\n",
              "      box-shadow: 0px 1px 2px rgba(60, 64, 67, 0.3), 0px 1px 3px 1px rgba(60, 64, 67, 0.15);\n",
              "      fill: #174EA6;\n",
              "    }\n",
              "\n",
              "    [theme=dark] .colab-df-convert {\n",
              "      background-color: #3B4455;\n",
              "      fill: #D2E3FC;\n",
              "    }\n",
              "\n",
              "    [theme=dark] .colab-df-convert:hover {\n",
              "      background-color: #434B5C;\n",
              "      box-shadow: 0px 1px 3px 1px rgba(0, 0, 0, 0.15);\n",
              "      filter: drop-shadow(0px 1px 2px rgba(0, 0, 0, 0.3));\n",
              "      fill: #FFFFFF;\n",
              "    }\n",
              "  </style>\n",
              "\n",
              "      <script>\n",
              "        const buttonEl =\n",
              "          document.querySelector('#df-d6a58bbc-2a63-4c61-b71a-9658dbdc850f button.colab-df-convert');\n",
              "        buttonEl.style.display =\n",
              "          google.colab.kernel.accessAllowed ? 'block' : 'none';\n",
              "\n",
              "        async function convertToInteractive(key) {\n",
              "          const element = document.querySelector('#df-d6a58bbc-2a63-4c61-b71a-9658dbdc850f');\n",
              "          const dataTable =\n",
              "            await google.colab.kernel.invokeFunction('convertToInteractive',\n",
              "                                                     [key], {});\n",
              "          if (!dataTable) return;\n",
              "\n",
              "          const docLinkHtml = 'Like what you see? Visit the ' +\n",
              "            '<a target=\"_blank\" href=https://colab.research.google.com/notebooks/data_table.ipynb>data table notebook</a>'\n",
              "            + ' to learn more about interactive tables.';\n",
              "          element.innerHTML = '';\n",
              "          dataTable['output_type'] = 'display_data';\n",
              "          await google.colab.output.renderOutput(dataTable, element);\n",
              "          const docLink = document.createElement('div');\n",
              "          docLink.innerHTML = docLinkHtml;\n",
              "          element.appendChild(docLink);\n",
              "        }\n",
              "      </script>\n",
              "    </div>\n",
              "  </div>\n",
              "  "
            ],
            "text/plain": [
              "                  names\n",
              "0        Sara Moreno 34\n",
              "1         jUAn GOMez 23\n",
              "2    CArlos mArtinez 89\n",
              "3   Alfredo VelaZques 3\n",
              "4          luis Mora 56\n",
              "5  @freddier #platzi 10\n",
              "6                  <NA>"
            ]
          },
          "metadata": {},
          "execution_count": 4
        }
      ]
    },
    {
      "cell_type": "markdown",
      "source": [
        "**Para usar las funciones asociadas a texto usamos str en nuestro DataFrame, por ejemplo, si se quiere colocar el texto en minúscula, basta con escribir:**"
      ],
      "metadata": {
        "id": "Jt8KhFRU7MyR"
      }
    },
    {
      "cell_type": "code",
      "source": [
        "df['names'].str.lower()"
      ],
      "metadata": {
        "colab": {
          "base_uri": "https://localhost:8080/"
        },
        "id": "F2068nKw7V5i",
        "outputId": "b1814d2e-8f9b-4630-abf5-5dca3e323a1e"
      },
      "execution_count": null,
      "outputs": [
        {
          "output_type": "execute_result",
          "data": {
            "text/plain": [
              "0          sara moreno 34\n",
              "1           juan gomez 23\n",
              "2      carlos martinez 89\n",
              "3     alfredo velazques 3\n",
              "4            luis mora 56\n",
              "5    @freddier #platzi 10\n",
              "6                    <NA>\n",
              "Name: names, dtype: object"
            ]
          },
          "metadata": {},
          "execution_count": 5
        }
      ]
    },
    {
      "cell_type": "markdown",
      "source": [
        "**Para mayúsculas igualmente:**"
      ],
      "metadata": {
        "id": "b8vamu9N7ZxX"
      }
    },
    {
      "cell_type": "code",
      "source": [
        "df['names'].str.upper()"
      ],
      "metadata": {
        "colab": {
          "base_uri": "https://localhost:8080/"
        },
        "id": "5_-nM7D47cIL",
        "outputId": "7666da2b-b262-46d4-9511-19ebdac2a062"
      },
      "execution_count": null,
      "outputs": [
        {
          "output_type": "execute_result",
          "data": {
            "text/plain": [
              "0          SARA MORENO 34\n",
              "1           JUAN GOMEZ 23\n",
              "2      CARLOS MARTINEZ 89\n",
              "3     ALFREDO VELAZQUES 3\n",
              "4            LUIS MORA 56\n",
              "5    @FREDDIER #PLATZI 10\n",
              "6                    <NA>\n",
              "Name: names, dtype: object"
            ]
          },
          "metadata": {},
          "execution_count": 6
        }
      ]
    },
    {
      "cell_type": "markdown",
      "source": [
        "**O si queremos solo la primera letra en mayúscula:**"
      ],
      "metadata": {
        "id": "lY5fvfKa8V2t"
      }
    },
    {
      "cell_type": "code",
      "source": [
        "df['names'].str.capitalize()"
      ],
      "metadata": {
        "colab": {
          "base_uri": "https://localhost:8080/"
        },
        "id": "bb1k3fil8U2u",
        "outputId": "c709401f-7fa2-4ce2-bc54-4f2cca433dc9"
      },
      "execution_count": null,
      "outputs": [
        {
          "output_type": "execute_result",
          "data": {
            "text/plain": [
              "0          Sara moreno 34\n",
              "1           Juan gomez 23\n",
              "2      Carlos martinez 89\n",
              "3     Alfredo velazques 3\n",
              "4            Luis mora 56\n",
              "5    @freddier #platzi 10\n",
              "6                    <NA>\n",
              "Name: names, dtype: object"
            ]
          },
          "metadata": {},
          "execution_count": 7
        }
      ]
    },
    {
      "cell_type": "markdown",
      "source": [
        "**Para contar la longitud de nuestro texto usamos:**"
      ],
      "metadata": {
        "id": "zjvsAu828bpj"
      }
    },
    {
      "cell_type": "code",
      "source": [
        "df['names'].str.len()"
      ],
      "metadata": {
        "colab": {
          "base_uri": "https://localhost:8080/"
        },
        "id": "RRevn5ij8dyd",
        "outputId": "f9700587-deae-43ec-c520-c72fab4bc641"
      },
      "execution_count": null,
      "outputs": [
        {
          "output_type": "execute_result",
          "data": {
            "text/plain": [
              "0      14\n",
              "1      13\n",
              "2      18\n",
              "3      19\n",
              "4      12\n",
              "5      20\n",
              "6    <NA>\n",
              "Name: names, dtype: object"
            ]
          },
          "metadata": {},
          "execution_count": 8
        }
      ]
    },
    {
      "cell_type": "markdown",
      "source": [
        "Para dividir el texto por espacios usamos split y definimos el carácter por\n",
        "el que queremos dividir, en este caso, un espacio vacío ' ' o '#':"
      ],
      "metadata": {
        "id": "5nuB8vif8g03"
      }
    },
    {
      "cell_type": "code",
      "source": [
        "df['names'].str.split(' ')"
      ],
      "metadata": {
        "colab": {
          "base_uri": "https://localhost:8080/"
        },
        "id": "_q_asVTo8px_",
        "outputId": "6d1b3ec5-8b5c-49f8-932f-404f445d6513"
      },
      "execution_count": null,
      "outputs": [
        {
          "output_type": "execute_result",
          "data": {
            "text/plain": [
              "0          [Sara, Moreno, 34]\n",
              "1           [jUAn, GOMez, 23]\n",
              "2      [CArlos, mArtinez, 89]\n",
              "3     [Alfredo, VelaZques, 3]\n",
              "4            [luis, Mora, 56]\n",
              "5    [@freddier, #platzi, 10]\n",
              "6                        <NA>\n",
              "Name: names, dtype: object"
            ]
          },
          "metadata": {},
          "execution_count": 9
        }
      ]
    },
    {
      "cell_type": "code",
      "source": [
        "df['names'].str.split('#')"
      ],
      "metadata": {
        "colab": {
          "base_uri": "https://localhost:8080/"
        },
        "id": "ZTU_h-kj9HLl",
        "outputId": "e88e672a-49d6-4c2a-ce29-a2c33f58d844"
      },
      "execution_count": null,
      "outputs": [
        {
          "output_type": "execute_result",
          "data": {
            "text/plain": [
              "0           [Sara Moreno 34]\n",
              "1            [jUAn GOMez 23]\n",
              "2       [CArlos mArtinez 89]\n",
              "3      [Alfredo VelaZques 3]\n",
              "4             [luis Mora 56]\n",
              "5    [@freddier , platzi 10]\n",
              "6                       <NA>\n",
              "Name: names, dtype: object"
            ]
          },
          "metadata": {},
          "execution_count": 10
        }
      ]
    },
    {
      "cell_type": "markdown",
      "source": [
        "**Para seleccionar los primeros o últimos 5 caracteres usamos:**"
      ],
      "metadata": {
        "id": "CxYclWo99E9G"
      }
    },
    {
      "cell_type": "code",
      "source": [
        "df['names'].str[:5]"
      ],
      "metadata": {
        "colab": {
          "base_uri": "https://localhost:8080/"
        },
        "id": "Wo2aZjVV9eu-",
        "outputId": "15dfbfeb-3d08-480e-90f6-fdcbb92cd69e"
      },
      "execution_count": null,
      "outputs": [
        {
          "output_type": "execute_result",
          "data": {
            "text/plain": [
              "0    Sara \n",
              "1    jUAn \n",
              "2    CArlo\n",
              "3    Alfre\n",
              "4    luis \n",
              "5    @fred\n",
              "6     <NA>\n",
              "Name: names, dtype: object"
            ]
          },
          "metadata": {},
          "execution_count": 13
        }
      ]
    },
    {
      "cell_type": "code",
      "source": [
        "df['names'].str[-5:]"
      ],
      "metadata": {
        "colab": {
          "base_uri": "https://localhost:8080/"
        },
        "id": "yUlOm2iY9iBT",
        "outputId": "04625631-4d6a-459b-cba9-c34024826e92"
      },
      "execution_count": null,
      "outputs": [
        {
          "output_type": "execute_result",
          "data": {
            "text/plain": [
              "0    no 34\n",
              "1    ez 23\n",
              "2    ez 89\n",
              "3    ues 3\n",
              "4    ra 56\n",
              "5    zi 10\n",
              "6     <NA>\n",
              "Name: names, dtype: object"
            ]
          },
          "metadata": {},
          "execution_count": 14
        }
      ]
    },
    {
      "cell_type": "markdown",
      "source": [
        "**Podemos reemplazar una secuencia de caracteres por otra mediante:**"
      ],
      "metadata": {
        "id": "lRsWKIeW9qsK"
      }
    },
    {
      "cell_type": "code",
      "source": [
        "df['names'].str.replace('Alfredo','Antonio')"
      ],
      "metadata": {
        "colab": {
          "base_uri": "https://localhost:8080/"
        },
        "id": "GqJKcdH59s1E",
        "outputId": "467b6213-95fc-4f38-9c19-4b3ee07c6fbc"
      },
      "execution_count": null,
      "outputs": [
        {
          "output_type": "execute_result",
          "data": {
            "text/plain": [
              "0          Sara Moreno 34\n",
              "1           jUAn GOMez 23\n",
              "2      CArlos mArtinez 89\n",
              "3     Antonio VelaZques 3\n",
              "4            luis Mora 56\n",
              "5    @freddier #platzi 10\n",
              "6                    <NA>\n",
              "Name: names, dtype: object"
            ]
          },
          "metadata": {},
          "execution_count": 15
        }
      ]
    },
    {
      "cell_type": "markdown",
      "source": [
        "También podemos buscar una secuencia de texto en específico, en este caso,\n",
        "'ara':"
      ],
      "metadata": {
        "id": "lJa0UsM69zrl"
      }
    },
    {
      "cell_type": "code",
      "source": [
        "df['names'].str.findall('ara')"
      ],
      "metadata": {
        "colab": {
          "base_uri": "https://localhost:8080/"
        },
        "id": "C-EcGuvR93lE",
        "outputId": "b7febfe0-5915-45cf-e2b6-852f67246738"
      },
      "execution_count": null,
      "outputs": [
        {
          "output_type": "execute_result",
          "data": {
            "text/plain": [
              "0    [ara]\n",
              "1       []\n",
              "2       []\n",
              "3       []\n",
              "4       []\n",
              "5       []\n",
              "6     <NA>\n",
              "Name: names, dtype: object"
            ]
          },
          "metadata": {},
          "execution_count": 16
        }
      ]
    },
    {
      "cell_type": "markdown",
      "source": [
        "También podemos crear un filtro basándonos en una secuencia de texto en\n",
        "específico, en este caso, las filas que tengan 'or':"
      ],
      "metadata": {
        "id": "reDdocWa9_qh"
      }
    },
    {
      "cell_type": "code",
      "source": [
        "df['names'].str.contains('or')"
      ],
      "metadata": {
        "colab": {
          "base_uri": "https://localhost:8080/"
        },
        "id": "NNtyEwB0-AmT",
        "outputId": "8ff17905-cf20-4937-fb00-4998a6183e44"
      },
      "execution_count": null,
      "outputs": [
        {
          "output_type": "execute_result",
          "data": {
            "text/plain": [
              "0     True\n",
              "1    False\n",
              "2    False\n",
              "3    False\n",
              "4     True\n",
              "5    False\n",
              "6     <NA>\n",
              "Name: names, dtype: object"
            ]
          },
          "metadata": {},
          "execution_count": 17
        }
      ]
    },
    {
      "cell_type": "markdown",
      "source": [
        "Así mismo, podemos contar el número de ocurrencias de un caracter en específico,\n",
        "por ejemplo, cuántas veces aparece la letra 'a':"
      ],
      "metadata": {
        "id": "JPzUxrib-FDx"
      }
    },
    {
      "cell_type": "code",
      "source": [
        "df['names'].str.lower().str.count('a')"
      ],
      "metadata": {
        "colab": {
          "base_uri": "https://localhost:8080/"
        },
        "id": "jxKB5QtP-F0G",
        "outputId": "42a3b19a-2497-4552-edff-2979e33ba5c6"
      },
      "execution_count": null,
      "outputs": [
        {
          "output_type": "execute_result",
          "data": {
            "text/plain": [
              "0       2\n",
              "1       1\n",
              "2       2\n",
              "3       2\n",
              "4       1\n",
              "5       1\n",
              "6    <NA>\n",
              "Name: names, dtype: object"
            ]
          },
          "metadata": {},
          "execution_count": 18
        }
      ]
    },
    {
      "cell_type": "markdown",
      "source": [
        "Existen comandos más avanzados usando Regex, por ejemplo, si quiero extraer los\n",
        "caracteres numéricos:"
      ],
      "metadata": {
        "id": "Z9LLXoSB-b69"
      }
    },
    {
      "cell_type": "code",
      "source": [
        "df['names'].str.extract('([0-9]+)', expand=False)"
      ],
      "metadata": {
        "colab": {
          "base_uri": "https://localhost:8080/"
        },
        "id": "wHa3PxVI-dfs",
        "outputId": "a7860f4c-8571-427d-9cf1-12784613d214"
      },
      "execution_count": null,
      "outputs": [
        {
          "output_type": "execute_result",
          "data": {
            "text/plain": [
              "0      34\n",
              "1      23\n",
              "2      89\n",
              "3       3\n",
              "4      56\n",
              "5      10\n",
              "6    <NA>\n",
              "Name: names, dtype: object"
            ]
          },
          "metadata": {},
          "execution_count": 20
        }
      ]
    },
    {
      "cell_type": "markdown",
      "source": [
        "O, por ejemplo, si quiero extraer las menciones '@xxxx' del texto:"
      ],
      "metadata": {
        "id": "7TzRNG3K_JLE"
      }
    },
    {
      "cell_type": "code",
      "source": [
        "df['names'].str.replace('@[^\\s]+','')"
      ],
      "metadata": {
        "colab": {
          "base_uri": "https://localhost:8080/"
        },
        "id": "YisVlOmJ_LFk",
        "outputId": "42d78111-d35d-462f-f3e7-91725c8824d8"
      },
      "execution_count": null,
      "outputs": [
        {
          "output_type": "stream",
          "name": "stderr",
          "text": [
            "/usr/local/lib/python3.7/dist-packages/ipykernel_launcher.py:1: FutureWarning: The default value of regex will change from True to False in a future version.\n",
            "  \"\"\"Entry point for launching an IPython kernel.\n"
          ]
        },
        {
          "output_type": "execute_result",
          "data": {
            "text/plain": [
              "0         Sara Moreno 34\n",
              "1          jUAn GOMez 23\n",
              "2     CArlos mArtinez 89\n",
              "3    Alfredo VelaZques 3\n",
              "4           luis Mora 56\n",
              "5             #platzi 10\n",
              "6                   <NA>\n",
              "Name: names, dtype: object"
            ]
          },
          "metadata": {},
          "execution_count": 21
        }
      ]
    }
  ]
}